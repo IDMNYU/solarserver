{
 "cells": [
  {
   "cell_type": "code",
   "execution_count": 56,
   "metadata": {},
   "outputs": [],
   "source": [
    "import random\n",
    "import pandas as pd\n",
    "import csv\n",
    "import time\n",
    "import datetime"
   ]
  },
  {
   "cell_type": "code",
   "execution_count": 57,
   "metadata": {},
   "outputs": [],
   "source": [
    "ina_toy_data = [random.random() * 500.0, 5.0, 34534679852.234234234]"
   ]
  },
  {
   "cell_type": "code",
   "execution_count": 58,
   "metadata": {},
   "outputs": [
    {
     "name": "stdout",
     "output_type": "stream",
     "text": [
      "[99.46012223570067, 5.0, 34534679852.23424]\n"
     ]
    }
   ],
   "source": [
    "print ina_toy_data"
   ]
  },
  {
   "cell_type": "code",
   "execution_count": 59,
   "metadata": {},
   "outputs": [],
   "source": [
    "newDF = pd.DataFrame(columns=['mA','V','time'])"
   ]
  },
  {
   "cell_type": "code",
   "execution_count": 60,
   "metadata": {},
   "outputs": [],
   "source": [
    "for i in list(range(10)):\n",
    "    ina_toy_data = [random.random() * 500.0, 5.0, 34534679852.234234234]\n",
    "    #print ina_toy_data\n",
    "    newDF = newDF.append({'mA' : ina_toy_data[0] , 'V' : ina_toy_data[1], 'time': ina_toy_data[2]},ignore_index=True)\n",
    "    "
   ]
  },
  {
   "cell_type": "code",
   "execution_count": 61,
   "metadata": {},
   "outputs": [
    {
     "data": {
      "text/html": [
       "<div>\n",
       "<style scoped>\n",
       "    .dataframe tbody tr th:only-of-type {\n",
       "        vertical-align: middle;\n",
       "    }\n",
       "\n",
       "    .dataframe tbody tr th {\n",
       "        vertical-align: top;\n",
       "    }\n",
       "\n",
       "    .dataframe thead th {\n",
       "        text-align: right;\n",
       "    }\n",
       "</style>\n",
       "<table border=\"1\" class=\"dataframe\">\n",
       "  <thead>\n",
       "    <tr style=\"text-align: right;\">\n",
       "      <th></th>\n",
       "      <th>mA</th>\n",
       "      <th>V</th>\n",
       "      <th>time</th>\n",
       "    </tr>\n",
       "  </thead>\n",
       "  <tbody>\n",
       "    <tr>\n",
       "      <th>0</th>\n",
       "      <td>116.394814</td>\n",
       "      <td>5.0</td>\n",
       "      <td>3.453468e+10</td>\n",
       "    </tr>\n",
       "    <tr>\n",
       "      <th>1</th>\n",
       "      <td>497.684892</td>\n",
       "      <td>5.0</td>\n",
       "      <td>3.453468e+10</td>\n",
       "    </tr>\n",
       "    <tr>\n",
       "      <th>2</th>\n",
       "      <td>226.546282</td>\n",
       "      <td>5.0</td>\n",
       "      <td>3.453468e+10</td>\n",
       "    </tr>\n",
       "    <tr>\n",
       "      <th>3</th>\n",
       "      <td>310.064170</td>\n",
       "      <td>5.0</td>\n",
       "      <td>3.453468e+10</td>\n",
       "    </tr>\n",
       "    <tr>\n",
       "      <th>4</th>\n",
       "      <td>493.116140</td>\n",
       "      <td>5.0</td>\n",
       "      <td>3.453468e+10</td>\n",
       "    </tr>\n",
       "    <tr>\n",
       "      <th>5</th>\n",
       "      <td>112.354932</td>\n",
       "      <td>5.0</td>\n",
       "      <td>3.453468e+10</td>\n",
       "    </tr>\n",
       "    <tr>\n",
       "      <th>6</th>\n",
       "      <td>255.473737</td>\n",
       "      <td>5.0</td>\n",
       "      <td>3.453468e+10</td>\n",
       "    </tr>\n",
       "    <tr>\n",
       "      <th>7</th>\n",
       "      <td>446.054124</td>\n",
       "      <td>5.0</td>\n",
       "      <td>3.453468e+10</td>\n",
       "    </tr>\n",
       "    <tr>\n",
       "      <th>8</th>\n",
       "      <td>444.660218</td>\n",
       "      <td>5.0</td>\n",
       "      <td>3.453468e+10</td>\n",
       "    </tr>\n",
       "    <tr>\n",
       "      <th>9</th>\n",
       "      <td>335.007275</td>\n",
       "      <td>5.0</td>\n",
       "      <td>3.453468e+10</td>\n",
       "    </tr>\n",
       "  </tbody>\n",
       "</table>\n",
       "</div>"
      ],
      "text/plain": [
       "           mA    V          time\n",
       "0  116.394814  5.0  3.453468e+10\n",
       "1  497.684892  5.0  3.453468e+10\n",
       "2  226.546282  5.0  3.453468e+10\n",
       "3  310.064170  5.0  3.453468e+10\n",
       "4  493.116140  5.0  3.453468e+10\n",
       "5  112.354932  5.0  3.453468e+10\n",
       "6  255.473737  5.0  3.453468e+10\n",
       "7  446.054124  5.0  3.453468e+10\n",
       "8  444.660218  5.0  3.453468e+10\n",
       "9  335.007275  5.0  3.453468e+10"
      ]
     },
     "execution_count": 61,
     "metadata": {},
     "output_type": "execute_result"
    }
   ],
   "source": [
    "newDF"
   ]
  },
  {
   "cell_type": "code",
   "execution_count": 75,
   "metadata": {},
   "outputs": [
    {
     "data": {
      "text/plain": [
       "1566569057"
      ]
     },
     "execution_count": 75,
     "metadata": {},
     "output_type": "execute_result"
    }
   ],
   "source": [
    "int(time.time())"
   ]
  },
  {
   "cell_type": "code",
   "execution_count": 88,
   "metadata": {},
   "outputs": [
    {
     "data": {
      "text/plain": [
       "'ina219/data/ina2192019-08-23-1566569163.csv'"
      ]
     },
     "execution_count": 88,
     "metadata": {},
     "output_type": "execute_result"
    }
   ],
   "source": [
    "fileName = 'data/ina219'+str(datetime.date.today())+'-'+str(int(time.time()))+'.csv'\n",
    "fileName"
   ]
  },
  {
   "cell_type": "code",
   "execution_count": 89,
   "metadata": {},
   "outputs": [],
   "source": [
    "\n",
    "#save data to file\n",
    "# check if the file already exists\n",
    "try:\n",
    "\twith open(fileName) as csvfile:\n",
    "\t\tprint(\"This file already exists!\")\n",
    "except:\n",
    "\tnewDF.to_csv(fileName, sep=',',index=False)"
   ]
  },
  {
   "cell_type": "code",
   "execution_count": null,
   "metadata": {},
   "outputs": [],
   "source": []
  }
 ],
 "metadata": {
  "kernelspec": {
   "display_name": "Python 2",
   "language": "python",
   "name": "python2"
  },
  "language_info": {
   "codemirror_mode": {
    "name": "ipython",
    "version": 2
   },
   "file_extension": ".py",
   "mimetype": "text/x-python",
   "name": "python",
   "nbconvert_exporter": "python",
   "pygments_lexer": "ipython2",
   "version": "2.7.15"
  }
 },
 "nbformat": 4,
 "nbformat_minor": 2
}
